{
 "cells": [
  {
   "cell_type": "code",
   "execution_count": 1,
   "id": "caee6d61-6d73-44ba-9539-97647c336d5f",
   "metadata": {},
   "outputs": [],
   "source": [
    "import torch\n",
    "import clip\n",
    "from PIL import Image, ImageDraw\n",
    "import numpy.random as random\n",
    "from typing import *\n",
    "\n",
    "\n"
   ]
  },
  {
   "cell_type": "code",
   "execution_count": 19,
   "id": "2849db85",
   "metadata": {},
   "outputs": [],
   "source": [
    "img = Image.new(\"RGB\", (32,32), color=(128, 128, 128))\n",
    "draw = ImageDraw.Draw(img)\n",
    "width, height = (32, 32)\n",
    "x1 = random.randint(0, width-10)\n",
    "y1 = random.randint(0, height-10)\n",
    "x2 = random.randint(x1+5, width)\n",
    "y2 = random.randint(y1+5, height)\n",
    "\n",
    "draw.rectangle((x1, y1, x2, y2), fill=(255, 0, 0))"
   ]
  },
  {
   "cell_type": "code",
   "execution_count": 21,
   "id": "59fb3e3d",
   "metadata": {},
   "outputs": [],
   "source": [
    "x1 = random.randint(10, width)\n",
    "y1 = random.randint(10, height)\n",
    "x2 = random.randint(x1 + 5, width)\n",
    "y2 = random.randint(y1+5, height)\n",
    "draw.rectangle((x1, y1, x2, y2), fill=(255, 0, 0))\n",
    "img.show()"
   ]
  },
  {
   "cell_type": "code",
   "execution_count": null,
   "id": "d4057f67",
   "metadata": {},
   "outputs": [],
   "source": [
    "colors = {\n",
    "    \"black\": (0, 0, 0),\n",
    "    \"white\": (255, 255, 255),\n",
    "    \"red\": (255, 0, 0),\n",
    "    \"green\": (0, 255, 0),\n",
    "    \"blue\": (0, 0, 255),\n",
    "    \"yellow\": (255, 255, 0),\n",
    "    \"cyan\": (0, 255, 255),\n",
    "    \"magenta\": (255, 0, 255),\n",
    "    \"silver\": (192, 192, 192),\n",
    "    \"gray\": (128, 128, 128),\n",
    "    \"maroon\": (128, 0, 0),\n",
    "    \"olive\": (128, 128, 0),\n",
    "    \"green\": (0, 128, 0),\n",
    "    \"purple\": (128, 0, 128),\n",
    "    \"teal\": (0, 128, 128),\n",
    "    \"navy\": (0, 0, 128),\n",
    "    \"orange\": (255, 165, 0),\n",
    "    \"gold\": (255, 215, 0),\n",
    "    \"pink\": (255, 192, 203),\n",
    "}"
   ]
  },
  {
   "cell_type": "code",
   "execution_count": 3,
   "id": "05ae9ed3",
   "metadata": {},
   "outputs": [],
   "source": [
    "def draw_rectangle(color: str, img_size=(128, 128), bg_color=\"gray\"):\n",
    "    img = Image.new(\"RGB\", img_size, color=colors[bg_color])\n",
    "    draw = ImageDraw.Draw(img)\n",
    "    width, height = img_size\n",
    "    x1 = random.randint(10, width)\n",
    "    y1 = random.randint(10, height)\n",
    "    x2 = random.randint(x1, width)\n",
    "    y2 = random.randint(y1, height)\n",
    "\n",
    "    draw.rectangle((x1, y1, x2, y2), fill=colors[color])\n",
    "    return img\n",
    "\n",
    "\n",
    "def draw_square(color: str, img_size=(128, 128), bg_color=\"gray\"):\n",
    "    img = Image.new(\"RGB\", img_size, color=colors[bg_color])\n",
    "    draw = ImageDraw.Draw(img)\n",
    "    width, height = img_size\n",
    "    x1 = random.randint(10, width//2)\n",
    "    y1 = random.randint(10, height//2)\n",
    "    x2 = random.randint(x1, width)\n",
    "    y2 = y1 + x2 - x1\n",
    "\n",
    "    draw.rectangle((x1, y1, x2, y2), fill=colors[color])\n",
    "    return img\n",
    "\n",
    "\n",
    "def draw_ellipse(color: str, img_size=(128, 128), bg_color=\"gray\"):\n",
    "    img = Image.new(\"RGB\", img_size, color=colors[bg_color])\n",
    "    draw = ImageDraw.Draw(img)\n",
    "    width, height = img_size\n",
    "    x1 = random.randint(10, width//2)\n",
    "    y1 = random.randint(10, height//2)\n",
    "    x2 = random.randint(x1*1.5, width)\n",
    "    y2 = random.randint(y1*1.5, height)\n",
    "\n",
    "    draw.ellipse((x1, y1, x2, y2), fill=colors[color])\n",
    "    return img\n",
    "\n",
    "\n",
    "def draw_circle(color: str, img_size=(128, 128), bg_color=\"gray\"):\n",
    "    img = Image.new(\"RGB\", img_size, color=colors[bg_color])\n",
    "    draw = ImageDraw.Draw(img)\n",
    "    width, height = img_size\n",
    "    x1 = random.randint(10, width//2)\n",
    "    y1 = random.randint(10, height//2)\n",
    "    x2 = random.randint(x1, width)\n",
    "    y2 = y1 + x2 - x1\n",
    "\n",
    "    draw.ellipse((x1, y1, x2, y2), fill=colors[color])\n",
    "    return img\n",
    "\n",
    "\n",
    "def draw_triangle(color: str, img_size=(128, 128), bg_color=\"gray\"):\n",
    "    img = Image.new(\"RGB\", img_size, color=colors[bg_color])\n",
    "    draw = ImageDraw.Draw(img)\n",
    "    width, height = img_size\n",
    "    x = random.randint(width*0.3, width*0.7)\n",
    "    y = random.randint(height*0.3, height*0.7)\n",
    "    r = random.randint(min(width*0.2, height*0.2), min(width*0.3, height*0.3))\n",
    "    rotation = random.randint(0, 360)\n",
    "    draw.regular_polygon((x, y , r), 3, rotation=rotation, fill=colors[color])\n",
    "    return img\n",
    "\n",
    "\n",
    "def draw_pentagon(color: str, img_size=(128, 128), bg_color=\"gray\"):\n",
    "    img = Image.new(\"RGB\", img_size, color=colors[bg_color])\n",
    "    draw = ImageDraw.Draw(img)\n",
    "    width, height = img_size\n",
    "    x = random.randint(width*0.3, width*0.7)\n",
    "    y = random.randint(height*0.3, height*0.7)\n",
    "    r = random.randint(min(width*0.2, height*0.2), min(width*0.3, height*0.3))\n",
    "    rotation = random.randint(0, 360)\n",
    "    draw.regular_polygon((x, y, r), 5, rotation=rotation, fill=colors[color])\n",
    "    return img"
   ]
  },
  {
   "cell_type": "code",
   "execution_count": 4,
   "id": "762089ab",
   "metadata": {},
   "outputs": [],
   "source": [
    "shapes = {\n",
    "    \"rectangle\": draw_rectangle,\n",
    "    \"square\": draw_square,\n",
    "    \"ellipse\": draw_ellipse,\n",
    "    \"circle\": draw_circle,\n",
    "    \"triangle\": draw_triangle,\n",
    "    \"pentagon\": draw_pentagon,\n",
    "}"
   ]
  },
  {
   "cell_type": "code",
   "execution_count": 83,
   "id": "217116d2",
   "metadata": {},
   "outputs": [],
   "source": [
    "# import os\n",
    "\n",
    "\n",
    "# pairs = [(color, shape) for color in colors if color != \"gray\" for shape in shapes]\n",
    "# train_images_per_class = 100\n",
    "# test_images_per_class = 30\n",
    "\n",
    "# for color, shape in pairs:\n",
    "#     class_name = \"an \" if color[0] in ['a', 'e', 'i', 'o', 'u'] else \"a \"\n",
    "#     class_name += color + \" \" + shape\n",
    "#     train_dir = \"data/train/\" + class_name\n",
    "#     test_dir = \"data/test/\" + class_name\n",
    "#     os.mkdir(train_dir)\n",
    "#     os.mkdir(test_dir)\n",
    "#     draw_func = shapes[shape]\n",
    "#     # color = colors[color]\n",
    "\n",
    "#     for i in range(train_images_per_class):\n",
    "#         img = draw_func(color)\n",
    "#         img.save(f\"{train_dir}/{i}.png\")\n",
    "\n",
    "#     for i in range(test_images_per_class):\n",
    "#         img = draw_func(color)\n",
    "#         img.save(f\"{test_dir}/{i}.png\")\n"
   ]
  },
  {
   "cell_type": "code",
   "execution_count": 6,
   "id": "67cec67c",
   "metadata": {},
   "outputs": [],
   "source": [
    "import os\n",
    "import pandas as pd\n",
    "\n",
    "def generate_data(pairs, n_per_class, dir):\n",
    "    n = 1\n",
    "    images = []\n",
    "    captions = []\n",
    "    for color, shape in pairs:\n",
    "        caption = \"an \" if color[0] in ['a', 'e', 'i', 'o', 'u'] else \"a \"\n",
    "        caption += color + \" \" + shape\n",
    "        draw_func = shapes[shape]\n",
    "\n",
    "        for i in range(n_per_class):\n",
    "            img = draw_func(color)\n",
    "            img_name = f\"{n}.png\"\n",
    "            img.save(f\"{dir}/{img_name}\")\n",
    "            images.append(img_name)\n",
    "            captions.append(caption)\n",
    "            n += 1\n",
    "\n",
    "    return images, captions\n"
   ]
  },
  {
   "cell_type": "code",
   "execution_count": 8,
   "id": "14f0739d",
   "metadata": {},
   "outputs": [],
   "source": [
    "train_images_per_class = 100\n",
    "test_images_per_class = 30\n",
    "train_dir = \"./data/train\"\n",
    "test_dir = \"./data/test\"\n",
    "train_img_dir = train_dir + \"/images\"\n",
    "test_img_dir = test_dir + \"/images\"\n",
    "\n",
    "pairs = [(color, shape) for color in colors if color != \"gray\" for shape in shapes]\n",
    "\n",
    "train_images, train_captions = generate_data(pairs, train_images_per_class, train_img_dir)\n",
    "test_images, test_captions = generate_data(pairs, test_images_per_class, test_img_dir)\n",
    "\n",
    "train_df = pd.DataFrame({\"caption\": train_captions, \"image\": train_images})\n",
    "test_df = pd.DataFrame({\"caption\": test_captions, \"image\": test_images})\n",
    "\n",
    "train_df.to_csv(train_dir + \"/data.csv\")\n",
    "test_df.to_csv(test_dir + \"/data.csv\")\n",
    "\n",
    "\n",
    "\n"
   ]
  },
  {
   "cell_type": "code",
   "execution_count": null,
   "id": "f0f43b3f",
   "metadata": {},
   "outputs": [],
   "source": [
    "\n",
    "\n",
    "pairs = [(color, shape) for color in colors if color != \"gray\" for shape in shapes]\n",
    "train_images_per_class = 100\n",
    "test_images_per_class = 30\n",
    "\n",
    "img_name = 1\n",
    "\n",
    "for color, shape in pairs:\n",
    "    caption = \"an \" if color[0] in ['a', 'e', 'i', 'o', 'u'] else \"a \"\n",
    "    caption += color + \" \" + shape\n",
    "    train_dir = \"./data/train/images\"\n",
    "    test_dir = \"./data/test/images\"\n",
    "    os.mkdir(train_dir)\n",
    "    os.mkdir(test_dir)\n",
    "    draw_func = shapes[shape]\n",
    "    # color = colors[color]\n",
    "\n",
    "    def return_df(n_images, i, dir, color):\n",
    "        for j in range(n_images):\n",
    "            img = draw_func(color)\n",
    "            img.save(f\"{dir}/{i}.png\")\n",
    "\n",
    "    for i in range(train_images_per_class):\n",
    "        img = draw_func(color)\n",
    "        img.save(f\"{train_dir}/{i}.png\")\n",
    "\n",
    "    for i in range(test_images_per_class):\n",
    "        img = draw_func(color)\n",
    "        img.save(f\"{test_dir}/{i}.png\")\n"
   ]
  },
  {
   "cell_type": "code",
   "execution_count": 75,
   "id": "453f65d8",
   "metadata": {},
   "outputs": [],
   "source": [
    "img = draw_triangle(\"black\")\n",
    "img.save(\"exp1.png\", quality=100)\n"
   ]
  },
  {
   "cell_type": "code",
   "execution_count": 8,
   "id": "88106bb0-0045-47b1-ad83-10486c86d70c",
   "metadata": {},
   "outputs": [],
   "source": [
    "im = Image.new('RGB', (128, 128), (128, 128, 128))\n",
    "draw = ImageDraw.Draw(im)\n"
   ]
  },
  {
   "cell_type": "code",
   "execution_count": 9,
   "id": "ce96613b-1f21-42c7-83b8-3c7148521fae",
   "metadata": {},
   "outputs": [],
   "source": [
    "draw.ellipse((10, 10, 50, 50), fill=(255, 0, 0), outline=(0, 0, 0))\n",
    "draw.rectangle((200, 100, 300, 200), fill=(0, 192, 192), outline=(255, 255, 255))\n",
    "\n",
    "im.save('pillow_imagedraw1.jpg', quality=95)\n"
   ]
  },
  {
   "cell_type": "code",
   "execution_count": 18,
   "id": "955f14aa-1f18-4bc9-b720-f10d0b391b6e",
   "metadata": {},
   "outputs": [],
   "source": [
    "im = Image.new('RGB', (500, 300), (128, 128, 128))\n",
    "draw = ImageDraw.Draw(im)\n"
   ]
  },
  {
   "cell_type": "code",
   "execution_count": 20,
   "id": "3584ceab-e8ec-4d77-8c59-b5350221070f",
   "metadata": {},
   "outputs": [],
   "source": [
    "draw.ellipse((100, 100, 150, 200), fill=(255, 0, 0), outline=(0, 0, 0))\n",
    "draw.rectangle((200, 100, 300, 200), fill=(0, 192, 192), outline=(255, 255, 255))\n",
    "\n",
    "im.save('pillow_imagedraw1.jpg', quality=95)\n"
   ]
  },
  {
   "cell_type": "code",
   "execution_count": 18,
   "id": "a828e416-a0d6-47e9-bd85-d746c97766d7",
   "metadata": {},
   "outputs": [],
   "source": [
    "im = Image.new('RGB', (500, 300), (128, 128, 128))\n",
    "draw = ImageDraw.Draw(im)\n"
   ]
  },
  {
   "cell_type": "code",
   "execution_count": 20,
   "id": "3970d2d5-6bc9-4485-8740-2b7918f9cafa",
   "metadata": {},
   "outputs": [],
   "source": [
    "draw.ellipse((100, 100, 150, 200), fill=(255, 0, 0), outline=(0, 0, 0))\n",
    "draw.rectangle((200, 100, 300, 200), fill=(0, 192, 192), outline=(255, 255, 255))\n",
    "\n",
    "im.save('pillow_imagedraw1.jpg', quality=95)\n"
   ]
  },
  {
   "cell_type": "code",
   "execution_count": 18,
   "id": "3ba94823-20b1-4d79-9765-d347e09b8304",
   "metadata": {},
   "outputs": [],
   "source": [
    "im = Image.new('RGB', (500, 300), (128, 128, 128))\n",
    "draw = ImageDraw.Draw(im)\n"
   ]
  },
  {
   "cell_type": "code",
   "execution_count": 20,
   "id": "1575aef0-8609-4cbc-a46d-a7124f3645ed",
   "metadata": {},
   "outputs": [],
   "source": [
    "draw.ellipse((100, 100, 150, 200), fill=(255, 0, 0), outline=(0, 0, 0))\n",
    "draw.rectangle((200, 100, 300, 200), fill=(0, 192, 192), outline=(255, 255, 255))\n",
    "\n",
    "im.save('pillow_imagedraw1.jpg', quality=95)\n"
   ]
  },
  {
   "cell_type": "code",
   "execution_count": 18,
   "id": "d7aaeb85-14e0-4f7e-8792-707b6687dc90",
   "metadata": {},
   "outputs": [],
   "source": [
    "im = Image.new('RGB', (500, 300), (128, 128, 128))\n",
    "draw = ImageDraw.Draw(im)\n"
   ]
  },
  {
   "cell_type": "code",
   "execution_count": 20,
   "id": "5c4b8c00-5131-4d65-9069-4388f02f6d45",
   "metadata": {},
   "outputs": [],
   "source": [
    "draw.ellipse((100, 100, 150, 200), fill=(255, 0, 0), outline=(0, 0, 0))\n",
    "draw.rectangle((200, 100, 300, 200), fill=(0, 192, 192), outline=(255, 255, 255))\n",
    "\n",
    "im.save('pillow_imagedraw1.jpg', quality=95)\n"
   ]
  },
  {
   "cell_type": "code",
   "execution_count": 18,
   "id": "f4c93284-1f70-45ca-99ec-3efc74570181",
   "metadata": {},
   "outputs": [],
   "source": [
    "im = Image.new('RGB', (500, 300), (128, 128, 128))\n",
    "draw = ImageDraw.Draw(im)\n"
   ]
  },
  {
   "cell_type": "code",
   "execution_count": 20,
   "id": "eaf0ce67-e7f9-4052-9306-b1b449a1d621",
   "metadata": {},
   "outputs": [],
   "source": [
    "draw.ellipse((100, 100, 150, 200), fill=(255, 0, 0), outline=(0, 0, 0))\n",
    "draw.rectangle((200, 100, 300, 200), fill=(0, 192, 192), outline=(255, 255, 255))\n",
    "\n",
    "im.save('pillow_imagedraw1.jpg', quality=95)\n"
   ]
  },
  {
   "cell_type": "code",
   "execution_count": 18,
   "id": "b1b554f3-b740-4801-a0e5-0c2d29b79bec",
   "metadata": {},
   "outputs": [],
   "source": [
    "im = Image.new('RGB', (500, 300), (128, 128, 128))\n",
    "draw = ImageDraw.Draw(im)\n"
   ]
  },
  {
   "cell_type": "code",
   "execution_count": 20,
   "id": "ec0641a5-f915-46eb-9d22-aa6fbb4e92af",
   "metadata": {},
   "outputs": [],
   "source": [
    "draw.ellipse((100, 100, 150, 200), fill=(255, 0, 0), outline=(0, 0, 0))\n",
    "draw.rectangle((200, 100, 300, 200), fill=(0, 192, 192), outline=(255, 255, 255))\n",
    "\n",
    "im.save('pillow_imagedraw1.jpg', quality=95)\n"
   ]
  },
  {
   "cell_type": "code",
   "execution_count": 18,
   "id": "bfb23873-156d-4881-a69e-a9f6ed6fae93",
   "metadata": {},
   "outputs": [],
   "source": [
    "im = Image.new('RGB', (500, 300), (128, 128, 128))\n",
    "draw = ImageDraw.Draw(im)\n"
   ]
  },
  {
   "cell_type": "code",
   "execution_count": 20,
   "id": "1f28d1c1-ab32-410b-87e8-29527739fecc",
   "metadata": {},
   "outputs": [],
   "source": [
    "draw.line((100, 100, 150, 200), fill=(255, 0, 0), outline=(0, 0, 0))\n",
    "draw.rectangle((200, 100, 300, 200), fill=(0, 192, 192), outline=(255, 255, 255))\n",
    "\n",
    "im.save('pillow_imagedraw.jpg', quality=95)\n"
   ]
  },
  {
   "cell_type": "code",
   "execution_count": 18,
   "id": "bb6e2d97-9392-4efa-b6cb-601841bf5b4c",
   "metadata": {},
   "outputs": [],
   "source": [
    "im = Image.new('RGB', (500, 300), (128, 128, 128))\n",
    "draw = ImageDraw.Draw(im)\n"
   ]
  },
  {
   "cell_type": "code",
   "execution_count": 20,
   "id": "465b2573-5b9f-47d1-b08a-b28bf0f55a36",
   "metadata": {},
   "outputs": [],
   "source": [
    "draw.ellipse((100, 100, 150, 200), fill=(255, 0, 0), outline=(0, 0, 0))\n",
    "draw.rectangle((200, 100, 300, 200), fill=(0, 192, 192), outline=(255, 255, 255))\n",
    "\n",
    "im.save('pillow_imagedraw1.jpg', quality=95)\n"
   ]
  },
  {
   "cell_type": "code",
   "execution_count": 4,
   "id": "91b6a852-4afa-4983-9d07-9c3f22231d0d",
   "metadata": {},
   "outputs": [],
   "source": [
    "device = \"cuda\" if torch.cuda.is_available() else \"cpu\"\n",
    "model, preprocess = clip.load(\"ViT-B/32\", device=device)"
   ]
  },
  {
   "cell_type": "code",
   "execution_count": 23,
   "id": "f16c0a00-a05f-4dec-acf9-b1508830442d",
   "metadata": {},
   "outputs": [
    {
     "name": "stdout",
     "output_type": "stream",
     "text": [
      "['a red rectangle', 'a red triangle', 'a red circle', 'a red square', 'a red oval', 'a red star', 'a red heart', 'a blue rectangle', 'a blue triangle', 'a blue circle', 'a blue square', 'a blue oval', 'a blue star', 'a blue heart', 'a white rectangle', 'a white triangle', 'a white circle', 'a white square', 'a white oval', 'a white star', 'a white heart', 'a black rectangle', 'a black triangle', 'a black circle', 'a black square', 'a black oval', 'a black star', 'a black heart', 'a yellow rectangle', 'a yellow triangle', 'a yellow circle', 'a yellow square', 'a yellow oval', 'a yellow star', 'a yellow heart', 'a green rectangle', 'a green triangle', 'a green circle', 'a green square', 'a green oval', 'a green star', 'a green heart', 'a orange rectangle', 'a orange triangle', 'a orange circle', 'a orange square', 'a orange oval', 'a orange star', 'a orange heart', 'a purple rectangle', 'a purple triangle', 'a purple circle', 'a purple square', 'a purple oval', 'a purple star', 'a purple heart', 'a brown rectangle', 'a brown triangle', 'a brown circle', 'a brown square', 'a brown oval', 'a brown star', 'a brown heart', 'a pink rectangle', 'a pink triangle', 'a pink circle', 'a pink square', 'a pink oval', 'a pink star', 'a pink heart', 'a grey rectangle', 'a grey triangle', 'a grey circle', 'a grey square', 'a grey oval', 'a grey star', 'a grey heart']\n"
     ]
    }
   ],
   "source": [
    "shapes = [\"rectangle\", \"triangle\", \"circle\", \"square\", \"oval\", \"star\", \"heart\"]\n",
    "colors = [\"red\", \"blue\", \"white\", \"black\", \"yellow\", \"green\", \"orange\", \"purple\", \"brown\", \"pink\", \"grey\"]\n",
    "captions = [f'a {color} {shape}' for color in colors for shape in shapes]\n",
    "print(captions)"
   ]
  },
  {
   "cell_type": "code",
   "execution_count": 18,
   "id": "236be513-8e7a-4445-bbe1-ff57dcdb26f3",
   "metadata": {},
   "outputs": [],
   "source": [
    "im = Image.new('RGB', (500, 300), (128, 128, 128))\n",
    "draw = ImageDraw.Draw(im)\n"
   ]
  },
  {
   "cell_type": "code",
   "execution_count": 20,
   "id": "f74d09ea-d0de-401a-b701-2a10e76fae13",
   "metadata": {},
   "outputs": [],
   "source": [
    "draw.ellipse((100, 100, 150, 200), fill=(255, 0, 0), outline=(0, 0, 0))\n",
    "draw.rectangle((200, 100, 300, 200), fill=(0, 192, 192), outline=(255, 255, 255))\n",
    "\n",
    "im.save('pillow_imagedraw1.jpg', quality=95)\n"
   ]
  },
  {
   "cell_type": "code",
   "execution_count": 27,
   "id": "9609b052-a453-4553-bc48-c0f1d16f9e07",
   "metadata": {},
   "outputs": [],
   "source": [
    "image = preprocess(Image.open(\"pillow_imagedraw1.jpg\")).unsqueeze(0).to(device)\n",
    "text = clip.tokenize(captions).to(device)\n",
    "\n",
    "with torch.no_grad():\n",
    "    image_features = model.encode_image(image)\n",
    "    text_features = model.encode_text(text)\n",
    "    \n",
    "    logits_per_image, logits_per_text = model(image, text)\n",
    "    probs = logits_per_image.softmax(dim=-1).cpu().numpy()\n",
    "\n",
    "# print(\"Label probs:\", probs)"
   ]
  },
  {
   "cell_type": "code",
   "execution_count": 28,
   "id": "ad0ce65c-68d0-41fd-a3a2-47411b460eab",
   "metadata": {},
   "outputs": [
    {
     "name": "stdout",
     "output_type": "stream",
     "text": [
      "\n",
      "Top predictions:\n",
      "\n",
      "a red rectangle: 21.17%\n",
      "a blue rectangle: 10.46%\n",
      "a blue square: 5.88%\n",
      "a red oval: 5.51%\n",
      "a orange square: 4.37%\n"
     ]
    }
   ],
   "source": [
    "# Pick the top 5 most similar labels for the image\n",
    "image_features /= image_features.norm(dim=-1, keepdim=True)\n",
    "text_features /= text_features.norm(dim=-1, keepdim=True)\n",
    "similarity = (100.0 * image_features @ text_features.T).softmax(dim=-1)\n",
    "values, indices = similarity[0].topk(5)\n",
    "\n",
    "# Print the result\n",
    "print(\"\\nTop predictions:\\n\")\n",
    "for value, index in zip(values, indices):\n",
    "    print(f\"{captions[index]}: {100 * value.item():.2f}%\")"
   ]
  },
  {
   "cell_type": "code",
   "execution_count": 5,
   "id": "8ae05748-a0c3-499f-8815-12efba77cf99",
   "metadata": {},
   "outputs": [],
   "source": [
    "from generate_dataset import Drawing"
   ]
  },
  {
   "cell_type": "code",
   "execution_count": 19,
   "id": "d212cf69",
   "metadata": {},
   "outputs": [
    {
     "data": {
      "image/png": "[encoded data removed]",
      "text/plain": [
       "<PIL.Image.Image image mode=RGB size=128x128>"
      ]
     },
     "metadata": {},
     "output_type": "display_data"
    },
    {
     "data": {
      "text/plain": [
       "'a purple pentagon at the top right'"
      ]
     },
     "execution_count": 19,
     "metadata": {},
     "output_type": "execute_result"
    }
   ],
   "source": [
    "d = Drawing(imagesize=(128, 128), background_color=\"gray\", excluded=[(\"gray\"), (\"white\", \"rectangle\"), (\"circle\")])\n",
    "d.add_random_figures(1, min_length=20)\n",
    "display(d.image)\n",
    "d.caption(size_drop_prob=0.3, pos_drop_prob=0.3)"
   ]
  },
  {
   "attachments": {},
   "cell_type": "markdown",
   "id": "ba3a6e41",
   "metadata": {},
   "source": []
  },
  {
   "cell_type": "code",
   "execution_count": 21,
   "id": "931083ff",
   "metadata": {},
   "outputs": [
    {
     "data": {
      "text/plain": [
       "5"
      ]
     },
     "execution_count": 21,
     "metadata": {},
     "output_type": "execute_result"
    }
   ],
   "source": [
    "excluded=[(\"gray\",), (\"white\"), (\"circle\")]\n",
    "excluded\n",
    "len(excluded[1])"
   ]
  },
  {
   "cell_type": "code",
   "execution_count": null,
   "id": "091606a7",
   "metadata": {},
   "outputs": [],
   "source": []
  }
 ],
 "metadata": {
  "kernelspec": {
   "display_name": "Python 3 (ipykernel)",
   "language": "python",
   "name": "python3"
  },
  "language_info": {
   "codemirror_mode": {
    "name": "ipython",
    "version": 3
   },
   "file_extension": ".py",
   "mimetype": "text/x-python",
   "name": "python",
   "nbconvert_exporter": "python",
   "pygments_lexer": "ipython3",
   "version": "3.8.15"
  },
  "vscode": {
   "interpreter": {
    "hash": "d155ed73f31124c2273f96921dea09a197c219aaf9ee95d2dc5407b27cd78c2c"
   }
  }
 },
 "nbformat": 4,
 "nbformat_minor": 5
}
