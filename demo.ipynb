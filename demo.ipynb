{
 "cells": [
  {
   "cell_type": "code",
   "execution_count": 1,
   "id": "caee6d61-6d73-44ba-9539-97647c336d5f",
   "metadata": {},
   "outputs": [
    {
     "name": "stderr",
     "output_type": "stream",
     "text": [
      "/Users/haopengluo/miniconda3/envs/fyp/lib/python3.8/site-packages/tqdm/auto.py:22: TqdmWarning: IProgress not found. Please update jupyter and ipywidgets. See https://ipywidgets.readthedocs.io/en/stable/user_install.html\n",
      "  from .autonotebook import tqdm as notebook_tqdm\n"
     ]
    }
   ],
   "source": [
    "import torch\n",
    "import clip\n",
    "from PIL import Image, ImageDraw\n",
    "\n",
    "\n",
    "\n"
   ]
  },
  {
   "cell_type": "code",
   "execution_count": 8,
   "id": "88106bb0-0045-47b1-ad83-10486c86d70c",
   "metadata": {},
   "outputs": [],
   "source": [
    "im = Image.new('RGB', (128, 128), (128, 128, 128))\n",
    "draw = ImageDraw.Draw(im)\n"
   ]
  },
  {
   "cell_type": "code",
   "execution_count": 9,
   "id": "ce96613b-1f21-42c7-83b8-3c7148521fae",
   "metadata": {},
   "outputs": [],
   "source": [
    "draw.ellipse((10, 10, 50, 50), fill=(255, 0, 0), outline=(0, 0, 0))\n",
    "draw.rectangle((200, 100, 300, 200), fill=(0, 192, 192), outline=(255, 255, 255))\n",
    "\n",
    "im.save('pillow_imagedraw1.jpg', quality=95)\n"
   ]
  },
  {
   "cell_type": "code",
   "execution_count": 18,
   "id": "955f14aa-1f18-4bc9-b720-f10d0b391b6e",
   "metadata": {},
   "outputs": [],
   "source": [
    "im = Image.new('RGB', (500, 300), (128, 128, 128))\n",
    "draw = ImageDraw.Draw(im)\n"
   ]
  },
  {
   "cell_type": "code",
   "execution_count": 20,
   "id": "3584ceab-e8ec-4d77-8c59-b5350221070f",
   "metadata": {},
   "outputs": [],
   "source": [
    "draw.ellipse((100, 100, 150, 200), fill=(255, 0, 0), outline=(0, 0, 0))\n",
    "draw.rectangle((200, 100, 300, 200), fill=(0, 192, 192), outline=(255, 255, 255))\n",
    "\n",
    "im.save('pillow_imagedraw1.jpg', quality=95)\n"
   ]
  },
  {
   "cell_type": "code",
   "execution_count": 18,
   "id": "a828e416-a0d6-47e9-bd85-d746c97766d7",
   "metadata": {},
   "outputs": [],
   "source": [
    "im = Image.new('RGB', (500, 300), (128, 128, 128))\n",
    "draw = ImageDraw.Draw(im)\n"
   ]
  },
  {
   "cell_type": "code",
   "execution_count": 20,
   "id": "3970d2d5-6bc9-4485-8740-2b7918f9cafa",
   "metadata": {},
   "outputs": [],
   "source": [
    "draw.ellipse((100, 100, 150, 200), fill=(255, 0, 0), outline=(0, 0, 0))\n",
    "draw.rectangle((200, 100, 300, 200), fill=(0, 192, 192), outline=(255, 255, 255))\n",
    "\n",
    "im.save('pillow_imagedraw1.jpg', quality=95)\n"
   ]
  },
  {
   "cell_type": "code",
   "execution_count": 18,
   "id": "3ba94823-20b1-4d79-9765-d347e09b8304",
   "metadata": {},
   "outputs": [],
   "source": [
    "im = Image.new('RGB', (500, 300), (128, 128, 128))\n",
    "draw = ImageDraw.Draw(im)\n"
   ]
  },
  {
   "cell_type": "code",
   "execution_count": 20,
   "id": "1575aef0-8609-4cbc-a46d-a7124f3645ed",
   "metadata": {},
   "outputs": [],
   "source": [
    "draw.ellipse((100, 100, 150, 200), fill=(255, 0, 0), outline=(0, 0, 0))\n",
    "draw.rectangle((200, 100, 300, 200), fill=(0, 192, 192), outline=(255, 255, 255))\n",
    "\n",
    "im.save('pillow_imagedraw1.jpg', quality=95)\n"
   ]
  },
  {
   "cell_type": "code",
   "execution_count": 18,
   "id": "d7aaeb85-14e0-4f7e-8792-707b6687dc90",
   "metadata": {},
   "outputs": [],
   "source": [
    "im = Image.new('RGB', (500, 300), (128, 128, 128))\n",
    "draw = ImageDraw.Draw(im)\n"
   ]
  },
  {
   "cell_type": "code",
   "execution_count": 20,
   "id": "5c4b8c00-5131-4d65-9069-4388f02f6d45",
   "metadata": {},
   "outputs": [],
   "source": [
    "draw.ellipse((100, 100, 150, 200), fill=(255, 0, 0), outline=(0, 0, 0))\n",
    "draw.rectangle((200, 100, 300, 200), fill=(0, 192, 192), outline=(255, 255, 255))\n",
    "\n",
    "im.save('pillow_imagedraw1.jpg', quality=95)\n"
   ]
  },
  {
   "cell_type": "code",
   "execution_count": 18,
   "id": "f4c93284-1f70-45ca-99ec-3efc74570181",
   "metadata": {},
   "outputs": [],
   "source": [
    "im = Image.new('RGB', (500, 300), (128, 128, 128))\n",
    "draw = ImageDraw.Draw(im)\n"
   ]
  },
  {
   "cell_type": "code",
   "execution_count": 20,
   "id": "eaf0ce67-e7f9-4052-9306-b1b449a1d621",
   "metadata": {},
   "outputs": [],
   "source": [
    "draw.ellipse((100, 100, 150, 200), fill=(255, 0, 0), outline=(0, 0, 0))\n",
    "draw.rectangle((200, 100, 300, 200), fill=(0, 192, 192), outline=(255, 255, 255))\n",
    "\n",
    "im.save('pillow_imagedraw1.jpg', quality=95)\n"
   ]
  },
  {
   "cell_type": "code",
   "execution_count": 18,
   "id": "b1b554f3-b740-4801-a0e5-0c2d29b79bec",
   "metadata": {},
   "outputs": [],
   "source": [
    "im = Image.new('RGB', (500, 300), (128, 128, 128))\n",
    "draw = ImageDraw.Draw(im)\n"
   ]
  },
  {
   "cell_type": "code",
   "execution_count": 20,
   "id": "ec0641a5-f915-46eb-9d22-aa6fbb4e92af",
   "metadata": {},
   "outputs": [],
   "source": [
    "draw.ellipse((100, 100, 150, 200), fill=(255, 0, 0), outline=(0, 0, 0))\n",
    "draw.rectangle((200, 100, 300, 200), fill=(0, 192, 192), outline=(255, 255, 255))\n",
    "\n",
    "im.save('pillow_imagedraw1.jpg', quality=95)\n"
   ]
  },
  {
   "cell_type": "code",
   "execution_count": 18,
   "id": "bfb23873-156d-4881-a69e-a9f6ed6fae93",
   "metadata": {},
   "outputs": [],
   "source": [
    "im = Image.new('RGB', (500, 300), (128, 128, 128))\n",
    "draw = ImageDraw.Draw(im)\n"
   ]
  },
  {
   "cell_type": "code",
   "execution_count": 20,
   "id": "1f28d1c1-ab32-410b-87e8-29527739fecc",
   "metadata": {},
   "outputs": [],
   "source": [
    "draw.line((100, 100, 150, 200), fill=(255, 0, 0), outline=(0, 0, 0))\n",
    "draw.rectangle((200, 100, 300, 200), fill=(0, 192, 192), outline=(255, 255, 255))\n",
    "\n",
    "im.save('pillow_imagedraw.jpg', quality=95)\n"
   ]
  },
  {
   "cell_type": "code",
   "execution_count": 18,
   "id": "bb6e2d97-9392-4efa-b6cb-601841bf5b4c",
   "metadata": {},
   "outputs": [],
   "source": [
    "im = Image.new('RGB', (500, 300), (128, 128, 128))\n",
    "draw = ImageDraw.Draw(im)\n"
   ]
  },
  {
   "cell_type": "code",
   "execution_count": 20,
   "id": "465b2573-5b9f-47d1-b08a-b28bf0f55a36",
   "metadata": {},
   "outputs": [],
   "source": [
    "draw.ellipse((100, 100, 150, 200), fill=(255, 0, 0), outline=(0, 0, 0))\n",
    "draw.rectangle((200, 100, 300, 200), fill=(0, 192, 192), outline=(255, 255, 255))\n",
    "\n",
    "im.save('pillow_imagedraw1.jpg', quality=95)\n"
   ]
  },
  {
   "cell_type": "code",
   "execution_count": 10,
   "id": "91b6a852-4afa-4983-9d07-9c3f22231d0d",
   "metadata": {},
   "outputs": [],
   "source": [
    "device = \"cuda\" if torch.cuda.is_available() else \"cpu\"\n",
    "model, preprocess = clip.load(\"ViT-B/32\", device=device)"
   ]
  },
  {
   "cell_type": "code",
   "execution_count": 11,
   "id": "f16c0a00-a05f-4dec-acf9-b1508830442d",
   "metadata": {},
   "outputs": [
    {
     "name": "stdout",
     "output_type": "stream",
     "text": [
      "['a red rectangle', 'a red triangle', 'a red circle', 'a red square', 'a red oval', 'a red star', 'a red heart', 'a blue rectangle', 'a blue triangle', 'a blue circle', 'a blue square', 'a blue oval', 'a blue star', 'a blue heart', 'a white rectangle', 'a white triangle', 'a white circle', 'a white square', 'a white oval', 'a white star', 'a white heart', 'a black rectangle', 'a black triangle', 'a black circle', 'a black square', 'a black oval', 'a black star', 'a black heart', 'a yellow rectangle', 'a yellow triangle', 'a yellow circle', 'a yellow square', 'a yellow oval', 'a yellow star', 'a yellow heart', 'a green rectangle', 'a green triangle', 'a green circle', 'a green square', 'a green oval', 'a green star', 'a green heart', 'a orange rectangle', 'a orange triangle', 'a orange circle', 'a orange square', 'a orange oval', 'a orange star', 'a orange heart', 'a purple rectangle', 'a purple triangle', 'a purple circle', 'a purple square', 'a purple oval', 'a purple star', 'a purple heart', 'a brown rectangle', 'a brown triangle', 'a brown circle', 'a brown square', 'a brown oval', 'a brown star', 'a brown heart', 'a pink rectangle', 'a pink triangle', 'a pink circle', 'a pink square', 'a pink oval', 'a pink star', 'a pink heart', 'a grey rectangle', 'a grey triangle', 'a grey circle', 'a grey square', 'a grey oval', 'a grey star', 'a grey heart']\n"
     ]
    }
   ],
   "source": [
    "shapes = [\"rectangle\", \"triangle\", \"circle\", \"square\", \"oval\", \"star\", \"heart\"]\n",
    "colors = [\"red\", \"blue\", \"white\", \"black\", \"yellow\", \"green\", \"orange\", \"purple\", \"brown\", \"pink\", \"grey\"]\n",
    "captions = [f'a {color} {shape}' for color in colors for shape in shapes]\n",
    "print(captions)"
   ]
  },
  {
   "cell_type": "code",
   "execution_count": 12,
   "id": "236be513-8e7a-4445-bbe1-ff57dcdb26f3",
   "metadata": {},
   "outputs": [],
   "source": [
    "im = Image.new('RGB', (500, 300), (128, 128, 128))\n",
    "draw = ImageDraw.Draw(im)\n"
   ]
  },
  {
   "cell_type": "code",
   "execution_count": 20,
   "id": "f74d09ea-d0de-401a-b701-2a10e76fae13",
   "metadata": {},
   "outputs": [],
   "source": [
    "draw.ellipse((100, 100, 150, 200), fill=(255, 0, 0), outline=(0, 0, 0))\n",
    "draw.rectangle((200, 100, 300, 200), fill=(0, 192, 192), outline=(255, 255, 255))\n",
    "\n",
    "im.save('pillow_imagedraw1.jpg', quality=95)\n"
   ]
  },
  {
   "cell_type": "code",
   "execution_count": 14,
   "id": "9609b052-a453-4553-bc48-c0f1d16f9e07",
   "metadata": {},
   "outputs": [
    {
     "name": "stdout",
     "output_type": "stream",
     "text": [
      "Label probs: [[7.9277374e-02 5.9573166e-02 2.9357693e-01 3.2305752e-03 2.9776286e-02\n",
      "  5.7136431e-02 6.6988566e-03 3.1212885e-03 1.6595703e-03 4.0111501e-02\n",
      "  1.2181434e-03 1.9090647e-03 2.1784247e-03 1.4670672e-04 3.2122834e-03\n",
      "  1.6854219e-03 5.8864746e-02 2.4782014e-03 3.3145430e-03 7.3473924e-04\n",
      "  7.4920747e-05 2.5827822e-03 1.4449155e-03 4.2292882e-02 3.0196302e-03\n",
      "  2.5987481e-03 1.0061330e-03 7.2149865e-05 1.2713766e-03 6.9347909e-04\n",
      "  1.7214434e-02 8.9128583e-04 1.1769237e-03 4.6367539e-04 1.1329353e-04\n",
      "  1.0921929e-03 5.9448584e-04 1.0941931e-02 3.2224870e-04 1.1404939e-03\n",
      "  7.1561668e-04 4.8796883e-05 4.0061707e-03 2.5047893e-03 7.9877980e-02\n",
      "  4.1148942e-03 4.5944816e-03 7.2336369e-03 7.4787857e-04 5.6670763e-04\n",
      "  3.6208253e-04 8.3125522e-03 3.7025005e-04 3.1208107e-04 7.7560719e-04\n",
      "  2.2588468e-04 1.1571115e-03 1.0259538e-03 3.6396973e-02 8.6670421e-04\n",
      "  1.7569626e-03 1.4322007e-03 9.0359259e-05 5.8441918e-04 3.8808014e-04\n",
      "  2.9228559e-02 7.0049829e-04 8.0843363e-04 1.4051505e-03 5.2459964e-05\n",
      "  3.9890907e-03 6.5373778e-03 4.7959134e-02 3.2639587e-03 6.0520396e-03\n",
      "  2.1078526e-03 5.1514449e-04]]\n"
     ]
    }
   ],
   "source": [
    "image = preprocess(Image.open(\"pillow_imagedraw1.jpg\")).unsqueeze(0).to(device)\n",
    "text = clip.tokenize(captions).to(device)\n",
    "\n",
    "with torch.no_grad():\n",
    "    image_features = model.encode_image(image)\n",
    "    text_features = model.encode_text(text)\n",
    "    \n",
    "    logits_per_image, logits_per_text = model(image, text)\n",
    "    probs = logits_per_image.softmax(dim=-1).cpu().numpy()\n",
    "\n",
    "print(\"Label probs:\", probs)"
   ]
  },
  {
   "cell_type": "code",
   "execution_count": 28,
   "id": "ad0ce65c-68d0-41fd-a3a2-47411b460eab",
   "metadata": {},
   "outputs": [
    {
     "name": "stdout",
     "output_type": "stream",
     "text": [
      "\n",
      "Top predictions:\n",
      "\n",
      "a red rectangle: 21.17%\n",
      "a blue rectangle: 10.46%\n",
      "a blue square: 5.88%\n",
      "a red oval: 5.51%\n",
      "a orange square: 4.37%\n"
     ]
    }
   ],
   "source": [
    "# Pick the top 5 most similar labels for the image\n",
    "image_features /= image_features.norm(dim=-1, keepdim=True)\n",
    "text_features /= text_features.norm(dim=-1, keepdim=True)\n",
    "similarity = (100.0 * image_features @ text_features.T).softmax(dim=-1)\n",
    "values, indices = similarity[0].topk(5)\n",
    "\n",
    "# Print the result\n",
    "print(\"\\nTop predictions:\\n\")\n",
    "for value, index in zip(values, indices):\n",
    "    print(f\"{captions[index]}: {100 * value.item():.2f}%\")"
   ]
  },
  {
   "cell_type": "code",
   "execution_count": null,
   "id": "8ae05748-a0c3-499f-8815-12efba77cf99",
   "metadata": {},
   "outputs": [],
   "source": []
  }
 ],
 "metadata": {
  "kernelspec": {
   "display_name": "fyp",
   "language": "python",
   "name": "python3"
  },
  "language_info": {
   "codemirror_mode": {
    "name": "ipython",
    "version": 3
   },
   "file_extension": ".py",
   "mimetype": "text/x-python",
   "name": "python",
   "nbconvert_exporter": "python",
   "pygments_lexer": "ipython3",
   "version": "3.8.15"
  },
  "vscode": {
   "interpreter": {
    "hash": "cca207a14afd2f0b48c3040207fd08719e52efd093632f0c5cde03ff49dc837d"
   }
  }
 },
 "nbformat": 4,
 "nbformat_minor": 5
}
